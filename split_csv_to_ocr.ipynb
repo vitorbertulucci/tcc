{
 "cells": [
  {
   "cell_type": "code",
   "execution_count": 25,
   "metadata": {},
   "outputs": [
    {
     "name": "stdout",
     "output_type": "stream",
     "text": [
      "80625 273878\n"
     ]
    }
   ],
   "source": [
    "import sys\n",
    "import csv\n",
    "\n",
    "csv.field_size_limit(sys.maxsize)\n",
    "\n",
    "with open('small_victor.csv') as file:\n",
    "    with open('is_ocr.csv', mode='w') as is_ocr:\n",
    "        is_ocr_writer = csv.writer(is_ocr, delimiter=',')\n",
    "        with open('not_ocr.csv', mode='w') as not_ocr:\n",
    "            not_ocr_writer = csv.writer(not_ocr, delimiter=',')\n",
    "            spamreader = csv.reader(file, delimiter=',')\n",
    "            ocr_counter = 0\n",
    "            not_ocr_counter = 0\n",
    "            for row in spamreader:\n",
    "                index += 1\n",
    "                line_is_ocr = row[8] == 't'\n",
    "                if line_is_ocr:\n",
    "                    ocr_counter += 1\n",
    "                    is_ocr_writer.writerow(row)\n",
    "                else:\n",
    "                    not_ocr_counter += 1\n",
    "                    not_ocr_writer.writerow(row)\n",
    "            print(ocr_counter, not_ocr_counter)"
   ]
  }
 ],
 "metadata": {
  "kernelspec": {
   "display_name": "Python 3",
   "language": "python",
   "name": "python3"
  },
  "language_info": {
   "codemirror_mode": {
    "name": "ipython",
    "version": 3
   },
   "file_extension": ".py",
   "mimetype": "text/x-python",
   "name": "python",
   "nbconvert_exporter": "python",
   "pygments_lexer": "ipython3",
   "version": "3.6.8"
  }
 },
 "nbformat": 4,
 "nbformat_minor": 4
}
