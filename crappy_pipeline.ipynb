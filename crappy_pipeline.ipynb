{
 "cells": [
  {
   "cell_type": "code",
   "execution_count": 3,
   "metadata": {},
   "outputs": [],
   "source": [
    "# utils\n",
    "from glob import glob\n",
    "import matplotlib.pyplot as plt\n",
    "import numpy as np\n",
    "import random\n",
    "import unidecode\n",
    "\n",
    "# image\n",
    "from PIL import Image, ImageFilter\n",
    "\n",
    "# openCV\n",
    "import cv2\n",
    "\n",
    "# scikit learn\n",
    "from skimage import io, util\n",
    "from skimage.color import rgb2gray\n",
    "\n",
    "# imgaug\n",
    "import imgaug as ia\n",
    "from imgaug import augmenters as iaa"
   ]
  },
  {
   "cell_type": "code",
   "execution_count": 19,
   "metadata": {},
   "outputs": [],
   "source": [
    "# loading test image\n",
    "img = cv2.imread('test.jpg')"
   ]
  },
  {
   "cell_type": "code",
   "execution_count": 175,
   "metadata": {},
   "outputs": [],
   "source": [
    "# draw a randomic overlay to be merged with image\n",
    "def random_overlay(shape, color=(55, 55, 55)):\n",
    "    import random\n",
    "    import cv2\n",
    "    # get image shape\n",
    "    height, width, channels = shape\n",
    "\n",
    "    # create blank white image\n",
    "    overlay = 255 * np.ones(shape=[height, width, channels], dtype=np.uint8)\n",
    "    \n",
    "    # randomize crappy shape and position\n",
    "    ## 0 - rectangle\n",
    "    ## 1 - line\n",
    "    ## 2 - circle\n",
    "    for i in range(4):\n",
    "        # get randomic shape position\n",
    "        x1, y1 = [random.choice(range(0, width)), random.choice(range(0, height))]\n",
    "        x2, y2 = [random.choice(range(0, width)), random.choice(range(0, height))]\n",
    "        \n",
    "        # select random shape\n",
    "        shape_range = range(0, 2)\n",
    "        randomic_shape = random.choice(shape_range)\n",
    "        if randomic_shape == 0:\n",
    "            cv2.rectangle(overlay, (x1, y1), (min(x2, 30), min(y2, 30)), color, -1)\n",
    "        elif randomic_shape == 1:\n",
    "            random_thickness = random.choice(range(0, 400))\n",
    "            cv2.line(overlay, (x1, y1), (min(x2, 100), min(y2, 100)), color, random_thickness)        \n",
    "        else:\n",
    "            cv2.circle(overlay, (x1, y1), (x2, y2), color, -1)\n",
    "    overlay = cv2.blur(overlay, (150, 150))\n",
    "    return overlay"
   ]
  },
  {
   "cell_type": "code",
   "execution_count": 178,
   "metadata": {},
   "outputs": [],
   "source": [
    "def crappy_pipeline(image):\n",
    "    # draw random shapes on image\n",
    "    overlay = random_overlay(image.shape)\n",
    "    alpha = 0.6\n",
    "    new_image = cv2.addWeighted(image, alpha, overlay, 1 - alpha, 0)\n",
    "    Image.fromarray(new_image).show()\n",
    "    return"
   ]
  },
  {
   "cell_type": "code",
   "execution_count": 179,
   "metadata": {},
   "outputs": [],
   "source": [
    "crappy_pipeline(img)"
   ]
  }
 ],
 "metadata": {
  "kernelspec": {
   "display_name": "Python 3",
   "language": "python",
   "name": "python3"
  },
  "language_info": {
   "codemirror_mode": {
    "name": "ipython",
    "version": 3
   },
   "file_extension": ".py",
   "mimetype": "text/x-python",
   "name": "python",
   "nbconvert_exporter": "python",
   "pygments_lexer": "ipython3",
   "version": "3.6.8"
  }
 },
 "nbformat": 4,
 "nbformat_minor": 4
}
