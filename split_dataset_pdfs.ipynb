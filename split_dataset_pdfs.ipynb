{
 "cells": [
  {
   "cell_type": "code",
   "execution_count": 49,
   "metadata": {},
   "outputs": [
    {
     "ename": "FileExistsError",
     "evalue": "[Errno 17] File exists: 'ocr_pdfs'",
     "output_type": "error",
     "traceback": [
      "\u001b[0;31m-----------------------------------------------------\u001b[0m",
      "\u001b[0;31mFileExistsError\u001b[0m     Traceback (most recent call last)",
      "\u001b[0;32m<ipython-input-49-cf029e5c808f>\u001b[0m in \u001b[0;36m<module>\u001b[0;34m\u001b[0m\n\u001b[1;32m      4\u001b[0m \u001b[0;32mimport\u001b[0m \u001b[0mcsv\u001b[0m\u001b[0;34m\u001b[0m\u001b[0;34m\u001b[0m\u001b[0m\n\u001b[1;32m      5\u001b[0m \u001b[0;34m\u001b[0m\u001b[0m\n\u001b[0;32m----> 6\u001b[0;31m \u001b[0mos\u001b[0m\u001b[0;34m.\u001b[0m\u001b[0mmkdir\u001b[0m\u001b[0;34m(\u001b[0m\u001b[0;34m'ocr_pdfs'\u001b[0m\u001b[0;34m)\u001b[0m\u001b[0;34m\u001b[0m\u001b[0;34m\u001b[0m\u001b[0m\n\u001b[0m",
      "\u001b[0;31mFileExistsError\u001b[0m: [Errno 17] File exists: 'ocr_pdfs'"
     ]
    }
   ],
   "source": [
    "from glob import glob\n",
    "import shutil\n",
    "import os\n",
    "import csv\n",
    "\n",
    "os.mkdir('ocr_pdfs')"
   ]
  },
  {
   "cell_type": "code",
   "execution_count": 47,
   "metadata": {},
   "outputs": [
    {
     "name": "stdout",
     "output_type": "stream",
     "text": [
      "89575\n",
      "['ARE_1098993_313587472_1280_23012018.pdf']\n",
      "['ARE_1098993_313513298_93_18122018.pdf']\n",
      "['ARE_1098993_313493511_1065_18122018.pdf']\n"
     ]
    }
   ],
   "source": [
    "def replace_folder_name(path):\n",
    "    path = path.replace('stf_pdfs/', '')\n",
    "    return path\n",
    "\n",
    "paths = glob('stf_pdfs/*.pdf')\n",
    "print(len(paths))\n",
    "paths_dict = {}\n",
    "for path in paths:\n",
    "    new_path = replace_folder_name(path)\n",
    "    splitted_name = new_path.split('_')\n",
    "    process_id = splitted_name[1]\n",
    "    document_id = splitted_name[2]\n",
    "    key = process_id + '_' + document_id\n",
    "    try:\n",
    "        print(paths_dict[key])\n",
    "    except Exception as e:\n",
    "        paths_dict[key] = []\n",
    "    paths_dict[key].append(new_path)\n"
   ]
  },
  {
   "cell_type": "code",
   "execution_count": 48,
   "metadata": {},
   "outputs": [
    {
     "data": {
      "text/plain": [
       "89572"
      ]
     },
     "execution_count": 48,
     "metadata": {},
     "output_type": "execute_result"
    }
   ],
   "source": [
    "len(paths_dict)"
   ]
  },
  {
   "cell_type": "code",
   "execution_count": 65,
   "metadata": {},
   "outputs": [],
   "source": [
    "import sys\n",
    "import csv\n",
    "\n",
    "csv.field_size_limit(sys.maxsize)\n",
    "\n",
    "with open('is_ocr.csv') as file:\n",
    "    csv_reader = csv.reader(file)\n",
    "    next(csv_reader, None)\n",
    "    for row in csv_reader:\n",
    "        proc_id = row[0]\n",
    "        doc_id = row[5]\n",
    "        key = proc_id + '_' + doc_id\n",
    "        shutil.copy('stf_pdfs/' + paths_dict[key][0], 'ocr_pdfs/' + paths_dict[key][0])\n"
   ]
  },
  {
   "cell_type": "code",
   "execution_count": null,
   "metadata": {},
   "outputs": [],
   "source": []
  }
 ],
 "metadata": {
  "kernelspec": {
   "display_name": "Python 3",
   "language": "python",
   "name": "python3"
  },
  "language_info": {
   "codemirror_mode": {
    "name": "ipython",
    "version": 3
   },
   "file_extension": ".py",
   "mimetype": "text/x-python",
   "name": "python",
   "nbconvert_exporter": "python",
   "pygments_lexer": "ipython3",
   "version": "3.6.8"
  }
 },
 "nbformat": 4,
 "nbformat_minor": 4
}
