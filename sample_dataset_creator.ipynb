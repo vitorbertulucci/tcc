{
 "cells": [
  {
   "cell_type": "code",
   "execution_count": 24,
   "metadata": {},
   "outputs": [],
   "source": [
    "import os\n",
    "import glob\n",
    "import random\n",
    "import numpy as np\n",
    "import shutil\n",
    "\n",
    "good_images = glob.glob('./is_ocr_images/*.jpg')\n",
    "\n",
    "max_train = 5000\n",
    "max_test = 2000\n",
    "train_paths = np.random.choice(good_images, max_train)\n",
    "for path in train_paths:\n",
    "    try:\n",
    "        index = good_images.index(path)\n",
    "        good_images.pop(index)\n",
    "        name = path.split('/')[2]\n",
    "        shutil.copy(path, './cycle_gan_sample/trainA/{}'.format(name))\n",
    "        shutil.copy('./crappy_images/{}'.format(name), './cycle_gan_sample/trainB/{}'.format(name))\n",
    "    except Exception as e:\n",
    "        # do nothing\n",
    "        e\n",
    "\n",
    "test_paths = np.random.choice(good_images, max_test)\n",
    "for path in test_paths:\n",
    "    try:\n",
    "        index = good_images.index(path)\n",
    "        good_images.pop(index)\n",
    "        name = path.split('/')[2]\n",
    "        shutil.copy(path, './cycle_gan_sample/testA/{}'.format(name))\n",
    "        shutil.copy('./crappy_images/{}'.format(name), './cycle_gan_sample/testB/{}'.format(name))\n",
    "    except Exception as e:\n",
    "        # do nothing\n",
    "        e"
   ]
  },
  {
   "cell_type": "code",
   "execution_count": 2,
   "metadata": {},
   "outputs": [
    {
     "name": "stdout",
     "output_type": "stream",
     "text": [
      "['./is_ocr_images/975703_309827785_1.jpg'\n",
      " './is_ocr_images/1089729_15339027386_77.jpg'\n",
      " './is_ocr_images/1071753_312614835_3.jpg' ...\n",
      " './is_ocr_images/1016875_311262264_1.jpg'\n",
      " './is_ocr_images/734409_2511670_1.jpg'\n",
      " './is_ocr_images/1017398_310965201_9.jpg']\n"
     ]
    }
   ],
   "source": []
  }
 ],
 "metadata": {
  "kernelspec": {
   "display_name": "Python 3",
   "language": "python",
   "name": "python3"
  },
  "language_info": {
   "codemirror_mode": {
    "name": "ipython",
    "version": 3
   },
   "file_extension": ".py",
   "mimetype": "text/x-python",
   "name": "python",
   "nbconvert_exporter": "python",
   "pygments_lexer": "ipython3",
   "version": "3.8.5"
  }
 },
 "nbformat": 4,
 "nbformat_minor": 4
}
