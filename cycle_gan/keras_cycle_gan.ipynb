{
 "cells": [
  {
   "cell_type": "code",
   "execution_count": 1,
   "metadata": {},
   "outputs": [],
   "source": [
    "import os\n",
    "import numpy as np\n",
    "import matplotlib.pyplot as plt\n",
    "\n",
    "import tensorflow as tf\n",
    "from tensorflow import keras\n",
    "from tensorflow.keras import layers\n",
    "\n",
    "import tensorflow_addons as tfa\n",
    "import tensorflow_datasets as tfds\n",
    "\n",
    "import pathlib\n",
    "import cv2\n",
    "from glob import glob\n",
    "\n",
    "tfds.disable_progress_bar()\n",
    "autotune = tf.data.experimental.AUTOTUNE"
   ]
  },
  {
   "cell_type": "code",
   "execution_count": 2,
   "metadata": {},
   "outputs": [],
   "source": [
    "# Load the horse-zebra dataset using tensorflow-datasets.\n",
    "# dataset, _ = tfds.load(\"cycle_gan_sample\", data_dir='../cycle_gan_sample/', with_info=True, as_supervised=True)\n",
    "data_dir = pathlib.Path('../cycle_gan_sample/')\n",
    "train_A = glob('../cycle_gan_sample/trainA/*.jpg')\n",
    "train_B = glob('../cycle_gan_sample/trainB/*.jpg')\n",
    "test_A = glob('../cycle_gan_sample/testA/*.jpg')\n",
    "test_B = glob('../cycle_gan_sample/testB/*.jpg')\n",
    "\n",
    "orig_img_size = (768, 512, 1)\n",
    "\n",
    "def load_images(glob_list):\n",
    "    return [ cv2.imread(p, cv2.IMREAD_GRAYSCALE) for p in list(glob_list) ]\n",
    "\n",
    "def resize_images(imgs):\n",
    "    return cv2.resize_images\n",
    "\n",
    "train_A = load_images(train_A)\n",
    "train_B = load_images(train_B)\n",
    "test_A = load_images(test_A)\n",
    "test_B = load_images(test_B)"
   ]
  },
  {
   "cell_type": "code",
   "execution_count": null,
   "metadata": {},
   "outputs": [],
   "source": []
  }
 ],
 "metadata": {
  "kernelspec": {
   "display_name": "Python 3",
   "language": "python",
   "name": "python3"
  },
  "language_info": {
   "codemirror_mode": {
    "name": "ipython",
    "version": 3
   },
   "file_extension": ".py",
   "mimetype": "text/x-python",
   "name": "python",
   "nbconvert_exporter": "python",
   "pygments_lexer": "ipython3",
   "version": "3.8.5"
  }
 },
 "nbformat": 4,
 "nbformat_minor": 4
}
