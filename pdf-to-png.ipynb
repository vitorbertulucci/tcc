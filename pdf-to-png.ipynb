{
 "cells": [
  {
   "cell_type": "code",
   "execution_count": 57,
   "metadata": {},
   "outputs": [],
   "source": [
    "from PIL import Image\n",
    "from pdf2image import convert_from_path\n",
    "import uuid"
   ]
  },
  {
   "cell_type": "code",
   "execution_count": 58,
   "metadata": {},
   "outputs": [],
   "source": [
    "pages = convert_from_path('livro.pdf', 5)"
   ]
  },
  {
   "cell_type": "code",
   "execution_count": 61,
   "metadata": {},
   "outputs": [],
   "source": [
    "for i in range(len(pages)):\n",
    "    image = pages[i]\n",
    "    \n",
    "    # name new images\n",
    "    top_image_name = 'images/page-{}.png'.format(uuid.uuid4())\n",
    "    bottom_image_name = 'images/page-{}.png'.format(uuid.uuid4())\n",
    "    \n",
    "    # get image shapes\n",
    "    diff = abs(image.width - (image.height // 2))\n",
    "    resized_width = image.width\n",
    "    resized_height = image.height // 2\n",
    "\n",
    "    # create new images with square shape\n",
    "    ## top\n",
    "    image_cropped_top = image.crop((0, 0, resized_width, resized_height))\n",
    "    image_cropped_top_shaped = Image.new(image_cropped_top.mode, (resized_width, resized_height + diff), (255, 255, 255))\n",
    "    image_cropped_top_shaped.paste(image_cropped_top, (0, diff))\n",
    "    image_cropped_top_shaped.save(top_image_name, 'PNG')\n",
    "\n",
    "    ## bottom\n",
    "    image_cropped_bottom = image.crop((0, resized_height, resized_width, resized_height * 2))\n",
    "    image_cropped_bottom_shaped = Image.new(image_cropped_bottom.mode, (resized_width, resized_height + diff), (255, 255, 255))\n",
    "    image_cropped_bottom_shaped.paste(image_cropped_bottom, (0, diff))\n",
    "    image_cropped_bottom_shaped.save(bottom_image_name, 'PNG')"
   ]
  }
 ],
 "metadata": {
  "kernelspec": {
   "display_name": "Python 3",
   "language": "python",
   "name": "python3"
  },
  "language_info": {
   "codemirror_mode": {
    "name": "ipython",
    "version": 3
   },
   "file_extension": ".py",
   "mimetype": "text/x-python",
   "name": "python",
   "nbconvert_exporter": "python",
   "pygments_lexer": "ipython3",
   "version": "3.6.8"
  }
 },
 "nbformat": 4,
 "nbformat_minor": 4
}
